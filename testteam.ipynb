{
 "cells": [
  {
   "cell_type": "code",
   "execution_count": 1,
   "metadata": {},
   "outputs": [
    {
     "data": {
      "text/plain": [
       "{'filters': {'dateFrom': '2024-12-27',\n",
       "  'dateTo': '2024-12-28',\n",
       "  'permission': 'TIER_ONE',\n",
       "  'competitions': '2021'},\n",
       " 'resultSet': {'count': 2,\n",
       "  'competitions': 'PL',\n",
       "  'first': '2024-12-27',\n",
       "  'last': '2024-12-27',\n",
       "  'played': 0},\n",
       " 'matches': [{'area': {'id': 2072,\n",
       "    'name': 'England',\n",
       "    'code': 'ENG',\n",
       "    'flag': 'https://crests.football-data.org/770.svg'},\n",
       "   'competition': {'id': 2021,\n",
       "    'name': 'Premier League',\n",
       "    'code': 'PL',\n",
       "    'type': 'LEAGUE',\n",
       "    'emblem': 'https://crests.football-data.org/PL.png'},\n",
       "   'season': {'id': 2287,\n",
       "    'startDate': '2024-08-16',\n",
       "    'endDate': '2025-05-25',\n",
       "    'currentMatchday': 18,\n",
       "    'winner': None},\n",
       "   'id': 497582,\n",
       "   'utcDate': '2024-12-27T19:30:00Z',\n",
       "   'status': 'TIMED',\n",
       "   'matchday': 18,\n",
       "   'stage': 'REGULAR_SEASON',\n",
       "   'group': None,\n",
       "   'lastUpdated': '2024-12-23T01:32:00Z',\n",
       "   'homeTeam': {'id': 397,\n",
       "    'name': 'Brighton & Hove Albion FC',\n",
       "    'shortName': 'Brighton Hove',\n",
       "    'tla': 'BHA',\n",
       "    'crest': 'https://crests.football-data.org/397.png'},\n",
       "   'awayTeam': {'id': 402,\n",
       "    'name': 'Brentford FC',\n",
       "    'shortName': 'Brentford',\n",
       "    'tla': 'BRE',\n",
       "    'crest': 'https://crests.football-data.org/402.png'},\n",
       "   'score': {'winner': None,\n",
       "    'duration': 'REGULAR',\n",
       "    'fullTime': {'home': None, 'away': None},\n",
       "    'halfTime': {'home': None, 'away': None}},\n",
       "   'odds': {'msg': 'Activate Odds-Package in User-Panel to retrieve odds.'},\n",
       "   'referees': [{'id': 11423,\n",
       "     'name': 'Andy Madley',\n",
       "     'type': 'REFEREE',\n",
       "     'nationality': 'England'}]},\n",
       "  {'area': {'id': 2072,\n",
       "    'name': 'England',\n",
       "    'code': 'ENG',\n",
       "    'flag': 'https://crests.football-data.org/770.svg'},\n",
       "   'competition': {'id': 2021,\n",
       "    'name': 'Premier League',\n",
       "    'code': 'PL',\n",
       "    'type': 'LEAGUE',\n",
       "    'emblem': 'https://crests.football-data.org/PL.png'},\n",
       "   'season': {'id': 2287,\n",
       "    'startDate': '2024-08-16',\n",
       "    'endDate': '2025-05-25',\n",
       "    'currentMatchday': 18,\n",
       "    'winner': None},\n",
       "   'id': 497581,\n",
       "   'utcDate': '2024-12-27T20:15:00Z',\n",
       "   'status': 'TIMED',\n",
       "   'matchday': 18,\n",
       "   'stage': 'REGULAR_SEASON',\n",
       "   'group': None,\n",
       "   'lastUpdated': '2024-12-27T01:32:00Z',\n",
       "   'homeTeam': {'id': 57,\n",
       "    'name': 'Arsenal FC',\n",
       "    'shortName': 'Arsenal',\n",
       "    'tla': 'ARS',\n",
       "    'crest': 'https://crests.football-data.org/57.png'},\n",
       "   'awayTeam': {'id': 349,\n",
       "    'name': 'Ipswich Town FC',\n",
       "    'shortName': 'Ipswich Town',\n",
       "    'tla': 'IPS',\n",
       "    'crest': 'https://crests.football-data.org/349.png'},\n",
       "   'score': {'winner': None,\n",
       "    'duration': 'REGULAR',\n",
       "    'fullTime': {'home': None, 'away': None},\n",
       "    'halfTime': {'home': None, 'away': None}},\n",
       "   'odds': {'msg': 'Activate Odds-Package in User-Panel to retrieve odds.'},\n",
       "   'referees': [{'id': 11469,\n",
       "     'name': 'Darren England',\n",
       "     'type': 'REFEREE',\n",
       "     'nationality': 'England'}]}]}"
      ]
     },
     "execution_count": 1,
     "metadata": {},
     "output_type": "execute_result"
    }
   ],
   "source": [
    "import json\n",
    "with open('testdata.json') as f:\n",
    "    data = json.load(f)\n",
    "data"
   ]
  },
  {
   "cell_type": "code",
   "execution_count": 2,
   "metadata": {},
   "outputs": [
    {
     "data": {
      "text/plain": [
       "dict_keys(['filters', 'resultSet', 'matches'])"
      ]
     },
     "execution_count": 2,
     "metadata": {},
     "output_type": "execute_result"
    }
   ],
   "source": [
    "data.keys()"
   ]
  },
  {
   "cell_type": "code",
   "execution_count": 5,
   "metadata": {},
   "outputs": [
    {
     "data": {
      "text/plain": [
       "dict_keys(['area', 'competition', 'season', 'id', 'utcDate', 'status', 'matchday', 'stage', 'group', 'lastUpdated', 'homeTeam', 'awayTeam', 'score', 'odds', 'referees'])"
      ]
     },
     "execution_count": 5,
     "metadata": {},
     "output_type": "execute_result"
    }
   ],
   "source": [
    "data['matches'][0].keys()"
   ]
  },
  {
   "cell_type": "code",
   "execution_count": 7,
   "metadata": {},
   "outputs": [
    {
     "data": {
      "text/plain": [
       "'Brighton & Hove Albion FC'"
      ]
     },
     "execution_count": 7,
     "metadata": {},
     "output_type": "execute_result"
    }
   ],
   "source": [
    "data['matches'][0]['homeTeam']['name']"
   ]
  }
 ],
 "metadata": {
  "kernelspec": {
   "display_name": "Python 3",
   "language": "python",
   "name": "python3"
  },
  "language_info": {
   "codemirror_mode": {
    "name": "ipython",
    "version": 3
   },
   "file_extension": ".py",
   "mimetype": "text/x-python",
   "name": "python",
   "nbconvert_exporter": "python",
   "pygments_lexer": "ipython3",
   "version": "3.12.1"
  }
 },
 "nbformat": 4,
 "nbformat_minor": 2
}
